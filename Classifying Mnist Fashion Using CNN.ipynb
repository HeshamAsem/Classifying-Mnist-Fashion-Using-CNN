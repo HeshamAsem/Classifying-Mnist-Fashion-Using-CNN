{
 "cells": [
  {
   "cell_type": "markdown",
   "metadata": {},
   "source": [
    "# Classifying Mnist Fashion Using CNN\n",
    "By : Hesham Asem\n",
    "\n",
    "______\n",
    "\n",
    "\n",
    "let's build Conv2D Neural Network , to classify tens of thousands of mnist Fashion images . . \n",
    "\n",
    "Data File  :https://www.kaggle.com/zalando-research/fashionmnist\n",
    "\n",
    "first to import needed libraries\n"
   ]
  },
  {
   "cell_type": "code",
   "execution_count": 1,
   "metadata": {},
   "outputs": [
    {
     "name": "stderr",
     "output_type": "stream",
     "text": [
      "/opt/conda/lib/python3.6/site-packages/tensorflow/python/framework/dtypes.py:516: FutureWarning: Passing (type, 1) or '1type' as a synonym of type is deprecated; in a future version of numpy, it will be understood as (type, (1,)) / '(1,)type'.\n",
      "  _np_qint8 = np.dtype([(\"qint8\", np.int8, 1)])\n",
      "/opt/conda/lib/python3.6/site-packages/tensorflow/python/framework/dtypes.py:517: FutureWarning: Passing (type, 1) or '1type' as a synonym of type is deprecated; in a future version of numpy, it will be understood as (type, (1,)) / '(1,)type'.\n",
      "  _np_quint8 = np.dtype([(\"quint8\", np.uint8, 1)])\n",
      "/opt/conda/lib/python3.6/site-packages/tensorflow/python/framework/dtypes.py:518: FutureWarning: Passing (type, 1) or '1type' as a synonym of type is deprecated; in a future version of numpy, it will be understood as (type, (1,)) / '(1,)type'.\n",
      "  _np_qint16 = np.dtype([(\"qint16\", np.int16, 1)])\n",
      "/opt/conda/lib/python3.6/site-packages/tensorflow/python/framework/dtypes.py:519: FutureWarning: Passing (type, 1) or '1type' as a synonym of type is deprecated; in a future version of numpy, it will be understood as (type, (1,)) / '(1,)type'.\n",
      "  _np_quint16 = np.dtype([(\"quint16\", np.uint16, 1)])\n",
      "/opt/conda/lib/python3.6/site-packages/tensorflow/python/framework/dtypes.py:520: FutureWarning: Passing (type, 1) or '1type' as a synonym of type is deprecated; in a future version of numpy, it will be understood as (type, (1,)) / '(1,)type'.\n",
      "  _np_qint32 = np.dtype([(\"qint32\", np.int32, 1)])\n",
      "/opt/conda/lib/python3.6/site-packages/tensorflow/python/framework/dtypes.py:525: FutureWarning: Passing (type, 1) or '1type' as a synonym of type is deprecated; in a future version of numpy, it will be understood as (type, (1,)) / '(1,)type'.\n",
      "  np_resource = np.dtype([(\"resource\", np.ubyte, 1)])\n",
      "/opt/conda/lib/python3.6/site-packages/tensorboard/compat/tensorflow_stub/dtypes.py:541: FutureWarning: Passing (type, 1) or '1type' as a synonym of type is deprecated; in a future version of numpy, it will be understood as (type, (1,)) / '(1,)type'.\n",
      "  _np_qint8 = np.dtype([(\"qint8\", np.int8, 1)])\n",
      "/opt/conda/lib/python3.6/site-packages/tensorboard/compat/tensorflow_stub/dtypes.py:542: FutureWarning: Passing (type, 1) or '1type' as a synonym of type is deprecated; in a future version of numpy, it will be understood as (type, (1,)) / '(1,)type'.\n",
      "  _np_quint8 = np.dtype([(\"quint8\", np.uint8, 1)])\n",
      "/opt/conda/lib/python3.6/site-packages/tensorboard/compat/tensorflow_stub/dtypes.py:543: FutureWarning: Passing (type, 1) or '1type' as a synonym of type is deprecated; in a future version of numpy, it will be understood as (type, (1,)) / '(1,)type'.\n",
      "  _np_qint16 = np.dtype([(\"qint16\", np.int16, 1)])\n",
      "/opt/conda/lib/python3.6/site-packages/tensorboard/compat/tensorflow_stub/dtypes.py:544: FutureWarning: Passing (type, 1) or '1type' as a synonym of type is deprecated; in a future version of numpy, it will be understood as (type, (1,)) / '(1,)type'.\n",
      "  _np_quint16 = np.dtype([(\"quint16\", np.uint16, 1)])\n",
      "/opt/conda/lib/python3.6/site-packages/tensorboard/compat/tensorflow_stub/dtypes.py:545: FutureWarning: Passing (type, 1) or '1type' as a synonym of type is deprecated; in a future version of numpy, it will be understood as (type, (1,)) / '(1,)type'.\n",
      "  _np_qint32 = np.dtype([(\"qint32\", np.int32, 1)])\n",
      "/opt/conda/lib/python3.6/site-packages/tensorboard/compat/tensorflow_stub/dtypes.py:550: FutureWarning: Passing (type, 1) or '1type' as a synonym of type is deprecated; in a future version of numpy, it will be understood as (type, (1,)) / '(1,)type'.\n",
      "  np_resource = np.dtype([(\"resource\", np.ubyte, 1)])\n",
      "Using TensorFlow backend.\n"
     ]
    }
   ],
   "source": [
    "import pandas as pd\n",
    "import numpy as np\n",
    "import matplotlib.pyplot as plt\n",
    "import seaborn as sns\n",
    "sns.set(style=\"ticks\")\n",
    "%matplotlib inline\n",
    "from sklearn.preprocessing import OneHotEncoder\n",
    "from sklearn.model_selection import train_test_split\n",
    "import tensorflow as tf\n",
    "import keras\n",
    "from keras.models import Sequential\n",
    "from keras.layers import Dense, Dropout, Flatten ,Conv2D, MaxPooling2D\n",
    "from keras.callbacks import ReduceLROnPlateau\n",
    "\n"
   ]
  },
  {
   "cell_type": "markdown",
   "metadata": {},
   "source": [
    "then read the data "
   ]
  },
  {
   "cell_type": "code",
   "execution_count": 2,
   "metadata": {},
   "outputs": [
    {
     "name": "stdout",
     "output_type": "stream",
     "text": [
      "Training Data size is : (10000, 785)\n",
      "Test Data size is : (10000, 785)\n"
     ]
    }
   ],
   "source": [
    "train_data = pd.read_csv(\"../input/fashionmnist/fashion-mnist_test.csv\")\n",
    "test_data = pd.read_csv(\"../input/fashionmnist/fashion-mnist_test.csv\")\n",
    "\n",
    "print(f'Training Data size is : {train_data.shape}')\n",
    "print(f'Test Data size is : {test_data.shape}')"
   ]
  },
  {
   "cell_type": "markdown",
   "metadata": {},
   "source": [
    "how it looks like ? "
   ]
  },
  {
   "cell_type": "code",
   "execution_count": 3,
   "metadata": {},
   "outputs": [
    {
     "data": {
      "text/html": [
       "<div>\n",
       "<style scoped>\n",
       "    .dataframe tbody tr th:only-of-type {\n",
       "        vertical-align: middle;\n",
       "    }\n",
       "\n",
       "    .dataframe tbody tr th {\n",
       "        vertical-align: top;\n",
       "    }\n",
       "\n",
       "    .dataframe thead th {\n",
       "        text-align: right;\n",
       "    }\n",
       "</style>\n",
       "<table border=\"1\" class=\"dataframe\">\n",
       "  <thead>\n",
       "    <tr style=\"text-align: right;\">\n",
       "      <th></th>\n",
       "      <th>label</th>\n",
       "      <th>pixel1</th>\n",
       "      <th>pixel2</th>\n",
       "      <th>pixel3</th>\n",
       "      <th>pixel4</th>\n",
       "      <th>pixel5</th>\n",
       "      <th>pixel6</th>\n",
       "      <th>pixel7</th>\n",
       "      <th>pixel8</th>\n",
       "      <th>pixel9</th>\n",
       "      <th>...</th>\n",
       "      <th>pixel775</th>\n",
       "      <th>pixel776</th>\n",
       "      <th>pixel777</th>\n",
       "      <th>pixel778</th>\n",
       "      <th>pixel779</th>\n",
       "      <th>pixel780</th>\n",
       "      <th>pixel781</th>\n",
       "      <th>pixel782</th>\n",
       "      <th>pixel783</th>\n",
       "      <th>pixel784</th>\n",
       "    </tr>\n",
       "  </thead>\n",
       "  <tbody>\n",
       "    <tr>\n",
       "      <th>0</th>\n",
       "      <td>0</td>\n",
       "      <td>0</td>\n",
       "      <td>0</td>\n",
       "      <td>0</td>\n",
       "      <td>0</td>\n",
       "      <td>0</td>\n",
       "      <td>0</td>\n",
       "      <td>0</td>\n",
       "      <td>9</td>\n",
       "      <td>8</td>\n",
       "      <td>...</td>\n",
       "      <td>103</td>\n",
       "      <td>87</td>\n",
       "      <td>56</td>\n",
       "      <td>0</td>\n",
       "      <td>0</td>\n",
       "      <td>0</td>\n",
       "      <td>0</td>\n",
       "      <td>0</td>\n",
       "      <td>0</td>\n",
       "      <td>0</td>\n",
       "    </tr>\n",
       "    <tr>\n",
       "      <th>1</th>\n",
       "      <td>1</td>\n",
       "      <td>0</td>\n",
       "      <td>0</td>\n",
       "      <td>0</td>\n",
       "      <td>0</td>\n",
       "      <td>0</td>\n",
       "      <td>0</td>\n",
       "      <td>0</td>\n",
       "      <td>0</td>\n",
       "      <td>0</td>\n",
       "      <td>...</td>\n",
       "      <td>34</td>\n",
       "      <td>0</td>\n",
       "      <td>0</td>\n",
       "      <td>0</td>\n",
       "      <td>0</td>\n",
       "      <td>0</td>\n",
       "      <td>0</td>\n",
       "      <td>0</td>\n",
       "      <td>0</td>\n",
       "      <td>0</td>\n",
       "    </tr>\n",
       "    <tr>\n",
       "      <th>2</th>\n",
       "      <td>2</td>\n",
       "      <td>0</td>\n",
       "      <td>0</td>\n",
       "      <td>0</td>\n",
       "      <td>0</td>\n",
       "      <td>0</td>\n",
       "      <td>0</td>\n",
       "      <td>14</td>\n",
       "      <td>53</td>\n",
       "      <td>99</td>\n",
       "      <td>...</td>\n",
       "      <td>0</td>\n",
       "      <td>0</td>\n",
       "      <td>0</td>\n",
       "      <td>0</td>\n",
       "      <td>63</td>\n",
       "      <td>53</td>\n",
       "      <td>31</td>\n",
       "      <td>0</td>\n",
       "      <td>0</td>\n",
       "      <td>0</td>\n",
       "    </tr>\n",
       "    <tr>\n",
       "      <th>3</th>\n",
       "      <td>2</td>\n",
       "      <td>0</td>\n",
       "      <td>0</td>\n",
       "      <td>0</td>\n",
       "      <td>0</td>\n",
       "      <td>0</td>\n",
       "      <td>0</td>\n",
       "      <td>0</td>\n",
       "      <td>0</td>\n",
       "      <td>0</td>\n",
       "      <td>...</td>\n",
       "      <td>137</td>\n",
       "      <td>126</td>\n",
       "      <td>140</td>\n",
       "      <td>0</td>\n",
       "      <td>133</td>\n",
       "      <td>224</td>\n",
       "      <td>222</td>\n",
       "      <td>56</td>\n",
       "      <td>0</td>\n",
       "      <td>0</td>\n",
       "    </tr>\n",
       "    <tr>\n",
       "      <th>4</th>\n",
       "      <td>3</td>\n",
       "      <td>0</td>\n",
       "      <td>0</td>\n",
       "      <td>0</td>\n",
       "      <td>0</td>\n",
       "      <td>0</td>\n",
       "      <td>0</td>\n",
       "      <td>0</td>\n",
       "      <td>0</td>\n",
       "      <td>0</td>\n",
       "      <td>...</td>\n",
       "      <td>0</td>\n",
       "      <td>0</td>\n",
       "      <td>0</td>\n",
       "      <td>0</td>\n",
       "      <td>0</td>\n",
       "      <td>0</td>\n",
       "      <td>0</td>\n",
       "      <td>0</td>\n",
       "      <td>0</td>\n",
       "      <td>0</td>\n",
       "    </tr>\n",
       "  </tbody>\n",
       "</table>\n",
       "<p>5 rows × 785 columns</p>\n",
       "</div>"
      ],
      "text/plain": [
       "   label  pixel1  pixel2  pixel3  pixel4  pixel5  pixel6  pixel7  pixel8  \\\n",
       "0      0       0       0       0       0       0       0       0       9   \n",
       "1      1       0       0       0       0       0       0       0       0   \n",
       "2      2       0       0       0       0       0       0      14      53   \n",
       "3      2       0       0       0       0       0       0       0       0   \n",
       "4      3       0       0       0       0       0       0       0       0   \n",
       "\n",
       "   pixel9  ...  pixel775  pixel776  pixel777  pixel778  pixel779  pixel780  \\\n",
       "0       8  ...       103        87        56         0         0         0   \n",
       "1       0  ...        34         0         0         0         0         0   \n",
       "2      99  ...         0         0         0         0        63        53   \n",
       "3       0  ...       137       126       140         0       133       224   \n",
       "4       0  ...         0         0         0         0         0         0   \n",
       "\n",
       "   pixel781  pixel782  pixel783  pixel784  \n",
       "0         0         0         0         0  \n",
       "1         0         0         0         0  \n",
       "2        31         0         0         0  \n",
       "3       222        56         0         0  \n",
       "4         0         0         0         0  \n",
       "\n",
       "[5 rows x 785 columns]"
      ]
     },
     "execution_count": 3,
     "metadata": {},
     "output_type": "execute_result"
    }
   ],
   "source": [
    "train_data.head()"
   ]
  },
  {
   "cell_type": "code",
   "execution_count": 4,
   "metadata": {},
   "outputs": [
    {
     "data": {
      "text/html": [
       "<div>\n",
       "<style scoped>\n",
       "    .dataframe tbody tr th:only-of-type {\n",
       "        vertical-align: middle;\n",
       "    }\n",
       "\n",
       "    .dataframe tbody tr th {\n",
       "        vertical-align: top;\n",
       "    }\n",
       "\n",
       "    .dataframe thead th {\n",
       "        text-align: right;\n",
       "    }\n",
       "</style>\n",
       "<table border=\"1\" class=\"dataframe\">\n",
       "  <thead>\n",
       "    <tr style=\"text-align: right;\">\n",
       "      <th></th>\n",
       "      <th>label</th>\n",
       "      <th>pixel1</th>\n",
       "      <th>pixel2</th>\n",
       "      <th>pixel3</th>\n",
       "      <th>pixel4</th>\n",
       "      <th>pixel5</th>\n",
       "      <th>pixel6</th>\n",
       "      <th>pixel7</th>\n",
       "      <th>pixel8</th>\n",
       "      <th>pixel9</th>\n",
       "      <th>...</th>\n",
       "      <th>pixel775</th>\n",
       "      <th>pixel776</th>\n",
       "      <th>pixel777</th>\n",
       "      <th>pixel778</th>\n",
       "      <th>pixel779</th>\n",
       "      <th>pixel780</th>\n",
       "      <th>pixel781</th>\n",
       "      <th>pixel782</th>\n",
       "      <th>pixel783</th>\n",
       "      <th>pixel784</th>\n",
       "    </tr>\n",
       "  </thead>\n",
       "  <tbody>\n",
       "    <tr>\n",
       "      <th>0</th>\n",
       "      <td>0</td>\n",
       "      <td>0</td>\n",
       "      <td>0</td>\n",
       "      <td>0</td>\n",
       "      <td>0</td>\n",
       "      <td>0</td>\n",
       "      <td>0</td>\n",
       "      <td>0</td>\n",
       "      <td>9</td>\n",
       "      <td>8</td>\n",
       "      <td>...</td>\n",
       "      <td>103</td>\n",
       "      <td>87</td>\n",
       "      <td>56</td>\n",
       "      <td>0</td>\n",
       "      <td>0</td>\n",
       "      <td>0</td>\n",
       "      <td>0</td>\n",
       "      <td>0</td>\n",
       "      <td>0</td>\n",
       "      <td>0</td>\n",
       "    </tr>\n",
       "    <tr>\n",
       "      <th>1</th>\n",
       "      <td>1</td>\n",
       "      <td>0</td>\n",
       "      <td>0</td>\n",
       "      <td>0</td>\n",
       "      <td>0</td>\n",
       "      <td>0</td>\n",
       "      <td>0</td>\n",
       "      <td>0</td>\n",
       "      <td>0</td>\n",
       "      <td>0</td>\n",
       "      <td>...</td>\n",
       "      <td>34</td>\n",
       "      <td>0</td>\n",
       "      <td>0</td>\n",
       "      <td>0</td>\n",
       "      <td>0</td>\n",
       "      <td>0</td>\n",
       "      <td>0</td>\n",
       "      <td>0</td>\n",
       "      <td>0</td>\n",
       "      <td>0</td>\n",
       "    </tr>\n",
       "    <tr>\n",
       "      <th>2</th>\n",
       "      <td>2</td>\n",
       "      <td>0</td>\n",
       "      <td>0</td>\n",
       "      <td>0</td>\n",
       "      <td>0</td>\n",
       "      <td>0</td>\n",
       "      <td>0</td>\n",
       "      <td>14</td>\n",
       "      <td>53</td>\n",
       "      <td>99</td>\n",
       "      <td>...</td>\n",
       "      <td>0</td>\n",
       "      <td>0</td>\n",
       "      <td>0</td>\n",
       "      <td>0</td>\n",
       "      <td>63</td>\n",
       "      <td>53</td>\n",
       "      <td>31</td>\n",
       "      <td>0</td>\n",
       "      <td>0</td>\n",
       "      <td>0</td>\n",
       "    </tr>\n",
       "    <tr>\n",
       "      <th>3</th>\n",
       "      <td>2</td>\n",
       "      <td>0</td>\n",
       "      <td>0</td>\n",
       "      <td>0</td>\n",
       "      <td>0</td>\n",
       "      <td>0</td>\n",
       "      <td>0</td>\n",
       "      <td>0</td>\n",
       "      <td>0</td>\n",
       "      <td>0</td>\n",
       "      <td>...</td>\n",
       "      <td>137</td>\n",
       "      <td>126</td>\n",
       "      <td>140</td>\n",
       "      <td>0</td>\n",
       "      <td>133</td>\n",
       "      <td>224</td>\n",
       "      <td>222</td>\n",
       "      <td>56</td>\n",
       "      <td>0</td>\n",
       "      <td>0</td>\n",
       "    </tr>\n",
       "    <tr>\n",
       "      <th>4</th>\n",
       "      <td>3</td>\n",
       "      <td>0</td>\n",
       "      <td>0</td>\n",
       "      <td>0</td>\n",
       "      <td>0</td>\n",
       "      <td>0</td>\n",
       "      <td>0</td>\n",
       "      <td>0</td>\n",
       "      <td>0</td>\n",
       "      <td>0</td>\n",
       "      <td>...</td>\n",
       "      <td>0</td>\n",
       "      <td>0</td>\n",
       "      <td>0</td>\n",
       "      <td>0</td>\n",
       "      <td>0</td>\n",
       "      <td>0</td>\n",
       "      <td>0</td>\n",
       "      <td>0</td>\n",
       "      <td>0</td>\n",
       "      <td>0</td>\n",
       "    </tr>\n",
       "  </tbody>\n",
       "</table>\n",
       "<p>5 rows × 785 columns</p>\n",
       "</div>"
      ],
      "text/plain": [
       "   label  pixel1  pixel2  pixel3  pixel4  pixel5  pixel6  pixel7  pixel8  \\\n",
       "0      0       0       0       0       0       0       0       0       9   \n",
       "1      1       0       0       0       0       0       0       0       0   \n",
       "2      2       0       0       0       0       0       0      14      53   \n",
       "3      2       0       0       0       0       0       0       0       0   \n",
       "4      3       0       0       0       0       0       0       0       0   \n",
       "\n",
       "   pixel9  ...  pixel775  pixel776  pixel777  pixel778  pixel779  pixel780  \\\n",
       "0       8  ...       103        87        56         0         0         0   \n",
       "1       0  ...        34         0         0         0         0         0   \n",
       "2      99  ...         0         0         0         0        63        53   \n",
       "3       0  ...       137       126       140         0       133       224   \n",
       "4       0  ...         0         0         0         0         0         0   \n",
       "\n",
       "   pixel781  pixel782  pixel783  pixel784  \n",
       "0         0         0         0         0  \n",
       "1         0         0         0         0  \n",
       "2        31         0         0         0  \n",
       "3       222        56         0         0  \n",
       "4         0         0         0         0  \n",
       "\n",
       "[5 rows x 785 columns]"
      ]
     },
     "execution_count": 4,
     "metadata": {},
     "output_type": "execute_result"
    }
   ],
   "source": [
    "test_data.head()"
   ]
  },
  {
   "cell_type": "markdown",
   "metadata": {},
   "source": [
    "_____\n",
    "\n",
    "# Data Processing\n",
    "\n",
    "then we can define X & y data for training"
   ]
  },
  {
   "cell_type": "code",
   "execution_count": 5,
   "metadata": {},
   "outputs": [
    {
     "name": "stdout",
     "output_type": "stream",
     "text": [
      "X shape is  (10000, 784)\n",
      "y shape is  (10000,)\n"
     ]
    }
   ],
   "source": [
    "X = train_data.drop(['label'], axis=1, inplace=False)\n",
    "y = train_data['label']\n",
    "\n",
    "print('X shape is ' , X.shape)\n",
    "print('y shape is ' , y.shape)"
   ]
  },
  {
   "cell_type": "markdown",
   "metadata": {},
   "source": [
    "and for testing"
   ]
  },
  {
   "cell_type": "code",
   "execution_count": 6,
   "metadata": {},
   "outputs": [
    {
     "name": "stdout",
     "output_type": "stream",
     "text": [
      "X shape is  (10000, 784)\n",
      "y shape is  (10000,)\n"
     ]
    }
   ],
   "source": [
    "X_test = test_data.drop(['label'], axis=1, inplace=False)\n",
    "y_test = test_data['label']\n",
    "\n",
    "print('X shape is ' , X_test.shape)\n",
    "print('y shape is ' , y_test.shape)"
   ]
  },
  {
   "cell_type": "markdown",
   "metadata": {},
   "source": [
    "let's have a look to a random 20 numbers "
   ]
  },
  {
   "cell_type": "code",
   "execution_count": 7,
   "metadata": {},
   "outputs": [
    {
     "data": {
      "image/png": "[encoded data removed]",
      "text/plain": [
       "<Figure size 864x720 with 20 Axes>"
      ]
     },
     "metadata": {
      "needs_background": "light"
     },
     "output_type": "display_data"
    }
   ],
   "source": [
    "plt.figure(figsize=(12,10))\n",
    "plt.style.use('ggplot')\n",
    "for i in  range(20)  :\n",
    "    plt.subplot(4,5,i+1)\n",
    "    plt.imshow(X.values[ np.random.randint(1,X.shape[0])].reshape(28,28) , cmap='gray')\n",
    "    "
   ]
  },
  {
   "cell_type": "markdown",
   "metadata": {},
   "source": [
    "we also need to be sure that output numbers are kinda equally distributed for training data"
   ]
  },
  {
   "cell_type": "code",
   "execution_count": 8,
   "metadata": {},
   "outputs": [
    {
     "data": {
      "text/plain": [
       "7    1000\n",
       "6    1000\n",
       "5    1000\n",
       "4    1000\n",
       "3    1000\n",
       "2    1000\n",
       "9    1000\n",
       "1    1000\n",
       "8    1000\n",
       "0    1000\n",
       "Name: label, dtype: int64"
      ]
     },
     "execution_count": 8,
     "metadata": {},
     "output_type": "execute_result"
    }
   ],
   "source": [
    "y.value_counts()"
   ]
  },
  {
   "cell_type": "markdown",
   "metadata": {},
   "source": [
    "and for testing data"
   ]
  },
  {
   "cell_type": "code",
   "execution_count": 9,
   "metadata": {},
   "outputs": [
    {
     "data": {
      "text/plain": [
       "7    1000\n",
       "6    1000\n",
       "5    1000\n",
       "4    1000\n",
       "3    1000\n",
       "2    1000\n",
       "9    1000\n",
       "1    1000\n",
       "8    1000\n",
       "0    1000\n",
       "Name: label, dtype: int64"
      ]
     },
     "execution_count": 9,
     "metadata": {},
     "output_type": "execute_result"
    }
   ],
   "source": [
    "y_test.value_counts()"
   ]
  },
  {
   "cell_type": "markdown",
   "metadata": {},
   "source": [
    "Ok great , let's make a pie chart for training output"
   ]
  },
  {
   "cell_type": "code",
   "execution_count": 10,
   "metadata": {},
   "outputs": [
    {
     "data": {
      "image/png": "[encoded data removed]",
      "text/plain": [
       "<Figure size 864x864 with 1 Axes>"
      ]
     },
     "metadata": {},
     "output_type": "display_data"
    }
   ],
   "source": [
    "plt.figure(figsize=(12,12))\n",
    "plt.pie(y.value_counts(),labels=list(y.value_counts().index),autopct ='%1.2f%%' ,\n",
    "        labeldistance = 1.1,explode = [0.05 for i in range(len(y.value_counts()))] )\n",
    "plt.show()\n"
   ]
  },
  {
   "cell_type": "markdown",
   "metadata": {},
   "source": [
    "____\n",
    "\n",
    "# Dimension Adjusting\n",
    "\n",
    "it;s very important to adjust dimensions for data before building the CNN , let's first normalize both traing & test data . \n",
    "\n",
    "ofcourse y will not be normalized or it will mislead the training"
   ]
  },
  {
   "cell_type": "code",
   "execution_count": 11,
   "metadata": {},
   "outputs": [],
   "source": [
    "X = X / 255.0\n",
    "X_test = X_test / 255.0"
   ]
  },
  {
   "cell_type": "markdown",
   "metadata": {},
   "source": [
    "now how train data dimension looks like"
   ]
  },
  {
   "cell_type": "code",
   "execution_count": 12,
   "metadata": {},
   "outputs": [
    {
     "data": {
      "text/plain": [
       "(10000, 784)"
      ]
     },
     "execution_count": 12,
     "metadata": {},
     "output_type": "execute_result"
    }
   ],
   "source": [
    "X.shape"
   ]
  },
  {
   "cell_type": "markdown",
   "metadata": {},
   "source": [
    "and test data"
   ]
  },
  {
   "cell_type": "code",
   "execution_count": 13,
   "metadata": {},
   "outputs": [
    {
     "data": {
      "text/plain": [
       "(10000, 784)"
      ]
     },
     "execution_count": 13,
     "metadata": {},
     "output_type": "execute_result"
    }
   ],
   "source": [
    "X_test.shape"
   ]
  },
  {
   "cell_type": "markdown",
   "metadata": {},
   "source": [
    "then we need to reshape them , to be 4 dimensions , so first dimension will be open for all sample size , then 28 x 28 as image size , then 1"
   ]
  },
  {
   "cell_type": "code",
   "execution_count": 14,
   "metadata": {},
   "outputs": [],
   "source": [
    "X = X.values.reshape(-1,28,28,1)\n",
    "X_test = X_test.values.reshape(-1,28,28,1)"
   ]
  },
  {
   "cell_type": "markdown",
   "metadata": {},
   "source": [
    "now how X dimension looks like"
   ]
  },
  {
   "cell_type": "code",
   "execution_count": 15,
   "metadata": {},
   "outputs": [
    {
     "data": {
      "text/plain": [
       "(10000, 28, 28, 1)"
      ]
     },
     "execution_count": 15,
     "metadata": {},
     "output_type": "execute_result"
    }
   ],
   "source": [
    "X.shape"
   ]
  },
  {
   "cell_type": "markdown",
   "metadata": {},
   "source": [
    "and test data ? "
   ]
  },
  {
   "cell_type": "code",
   "execution_count": 16,
   "metadata": {},
   "outputs": [
    {
     "data": {
      "text/plain": [
       "(10000, 28, 28, 1)"
      ]
     },
     "execution_count": 16,
     "metadata": {},
     "output_type": "execute_result"
    }
   ],
   "source": [
    "X_test.shape"
   ]
  },
  {
   "cell_type": "markdown",
   "metadata": {},
   "source": [
    "also we have to categorize y , to convert single numbers like (7) into One Hot Matrix like [0 0 0 0 0 0 1 0 0 0]"
   ]
  },
  {
   "cell_type": "code",
   "execution_count": 17,
   "metadata": {},
   "outputs": [
    {
     "name": "stderr",
     "output_type": "stream",
     "text": [
      "/opt/conda/lib/python3.6/site-packages/sklearn/preprocessing/_encoders.py:415: FutureWarning: The handling of integer data will change in version 0.22. Currently, the categories are determined based on the range [0, max(values)], while in the future they will be determined based on the unique values.\n",
      "If you want the future behaviour and silence this warning, you can specify \"categories='auto'\".\n",
      "In case you used a LabelEncoder before this OneHotEncoder to convert the categories to integers, then you can now use the OneHotEncoder directly.\n",
      "  warnings.warn(msg, FutureWarning)\n"
     ]
    }
   ],
   "source": [
    "ohe  = OneHotEncoder()\n",
    "y = np.array(y)\n",
    "y = y.reshape(len(y), 1)\n",
    "ohe.fit(y)\n",
    "y = ohe.transform(y).toarray()"
   ]
  },
  {
   "cell_type": "markdown",
   "metadata": {},
   "source": [
    "now how y looks like ? "
   ]
  },
  {
   "cell_type": "code",
   "execution_count": 18,
   "metadata": {},
   "outputs": [
    {
     "data": {
      "text/plain": [
       "(10000, 10)"
      ]
     },
     "execution_count": 18,
     "metadata": {},
     "output_type": "execute_result"
    }
   ],
   "source": [
    "y.shape"
   ]
  },
  {
   "cell_type": "markdown",
   "metadata": {},
   "source": [
    "then we'll do it again to test output data"
   ]
  },
  {
   "cell_type": "code",
   "execution_count": 19,
   "metadata": {},
   "outputs": [
    {
     "name": "stderr",
     "output_type": "stream",
     "text": [
      "/opt/conda/lib/python3.6/site-packages/sklearn/preprocessing/_encoders.py:415: FutureWarning: The handling of integer data will change in version 0.22. Currently, the categories are determined based on the range [0, max(values)], while in the future they will be determined based on the unique values.\n",
      "If you want the future behaviour and silence this warning, you can specify \"categories='auto'\".\n",
      "In case you used a LabelEncoder before this OneHotEncoder to convert the categories to integers, then you can now use the OneHotEncoder directly.\n",
      "  warnings.warn(msg, FutureWarning)\n"
     ]
    }
   ],
   "source": [
    "ohe  = OneHotEncoder()\n",
    "y_test = np.array(y_test)\n",
    "y_test = y_test.reshape(len(y_test), 1)\n",
    "ohe.fit(y_test)\n",
    "y_test = ohe.transform(y_test).toarray()"
   ]
  },
  {
   "cell_type": "markdown",
   "metadata": {},
   "source": [
    "and check its dimension"
   ]
  },
  {
   "cell_type": "code",
   "execution_count": 20,
   "metadata": {},
   "outputs": [
    {
     "data": {
      "text/plain": [
       "(10000, 10)"
      ]
     },
     "execution_count": 20,
     "metadata": {},
     "output_type": "execute_result"
    }
   ],
   "source": [
    "y_test.shape"
   ]
  },
  {
   "cell_type": "markdown",
   "metadata": {},
   "source": [
    "____\n",
    "\n",
    "# Data Splitting .\n",
    "\n",
    "we have to split our train data ,  to get cross-validation data , and train data\n"
   ]
  },
  {
   "cell_type": "code",
   "execution_count": 21,
   "metadata": {},
   "outputs": [
    {
     "name": "stdout",
     "output_type": "stream",
     "text": [
      "X_train shape is  (8500, 28, 28, 1)\n",
      "X_test shape is  (1500, 28, 28, 1)\n",
      "y_train shape is  (8500, 10)\n",
      "y_test shape is  (1500, 10)\n"
     ]
    }
   ],
   "source": [
    "X_train, X_cv, y_train, y_cv = train_test_split(X, y, test_size=0.15, random_state=44, shuffle =True)\n",
    "\n",
    "print('X_train shape is ' , X_train.shape)\n",
    "print('X_test shape is ' , X_cv.shape)\n",
    "print('y_train shape is ' , y_train.shape)\n",
    "print('y_test shape is ' , y_cv.shape)"
   ]
  },
  {
   "cell_type": "markdown",
   "metadata": {},
   "source": [
    "____\n",
    "\n",
    "# Conv2D Model\n",
    "\n",
    "now we can build our model , which will contain Conv layer then Maxpooling then normalize it \n",
    "\n",
    "then second layer contain Conv then Max then normalize\n",
    "\n",
    "then drop it out with 50 %\n",
    "\n",
    "then Flatten it \n",
    "\n",
    "then drop it out , then a FC with 64 units , then drop out , then last FC output layer "
   ]
  },
  {
   "cell_type": "code",
   "execution_count": 22,
   "metadata": {},
   "outputs": [],
   "source": [
    "KerasModel = keras.models.Sequential([\n",
    "        keras.layers.Conv2D(filters = 32, kernel_size = (3,3),  activation = tf.nn.relu , padding = 'same'),\n",
    "        keras.layers.MaxPool2D(pool_size=(2,2), strides=None, padding='valid'),\n",
    "        keras.layers.BatchNormalization(),\n",
    "        keras.layers.Conv2D(filters=32, kernel_size=(2,2),activation = tf.nn.relu , padding='same'),\n",
    "        keras.layers.MaxPool2D(),\n",
    "        keras.layers.BatchNormalization(),\n",
    "        keras.layers.Dropout(0.5),        \n",
    "        keras.layers.Flatten(),    \n",
    "        keras.layers.Dropout(0.5),        \n",
    "        keras.layers.Dense(64),    \n",
    "        keras.layers.Dropout(0.3),            \n",
    "        keras.layers.Dense(units= 10,activation = tf.nn.softmax ),                \n",
    "\n",
    "    ])"
   ]
  },
  {
   "cell_type": "markdown",
   "metadata": {},
   "source": [
    "complie the model using adam optimizer & loss function : categorical crossentropy , since it's multilassifier"
   ]
  },
  {
   "cell_type": "code",
   "execution_count": 23,
   "metadata": {},
   "outputs": [],
   "source": [
    "KerasModel.compile(optimizer='adam', loss='categorical_crossentropy', metrics=['acc'])"
   ]
  },
  {
   "cell_type": "markdown",
   "metadata": {},
   "source": [
    "now we can start training for 200 epochs . "
   ]
  },
  {
   "cell_type": "code",
   "execution_count": 24,
   "metadata": {},
   "outputs": [
    {
     "name": "stdout",
     "output_type": "stream",
     "text": [
      "Train on 8500 samples, validate on 1500 samples\n",
      "Epoch 1/200\n",
      "8500/8500 [==============================] - 3s 385us/step - loss: 2.0032 - acc: 0.6288 - val_loss: 0.6847 - val_acc: 0.8187\n",
      "Epoch 2/200\n",
      "8500/8500 [==============================] - 1s 106us/step - loss: 1.1421 - acc: 0.7399 - val_loss: 0.5060 - val_acc: 0.8433\n",
      "Epoch 3/200\n",
      "8500/8500 [==============================] - 1s 108us/step - loss: 0.9043 - acc: 0.7629 - val_loss: 0.4919 - val_acc: 0.8413\n",
      "Epoch 4/200\n",
      "8500/8500 [==============================] - 1s 106us/step - loss: 0.7578 - acc: 0.7768 - val_loss: 0.4385 - val_acc: 0.8547\n",
      "Epoch 5/200\n",
      "8500/8500 [==============================] - 1s 106us/step - loss: 0.6375 - acc: 0.7981 - val_loss: 0.3925 - val_acc: 0.8713\n",
      "Epoch 6/200\n",
      "8500/8500 [==============================] - 1s 105us/step - loss: 0.5488 - acc: 0.8165 - val_loss: 0.3865 - val_acc: 0.8673\n",
      "Epoch 7/200\n",
      "8500/8500 [==============================] - 1s 110us/step - loss: 0.5300 - acc: 0.8211 - val_loss: 0.3935 - val_acc: 0.8633\n",
      "Epoch 8/200\n",
      "8500/8500 [==============================] - 1s 106us/step - loss: 0.4970 - acc: 0.8207 - val_loss: 0.3737 - val_acc: 0.8747\n",
      "Epoch 9/200\n",
      "8500/8500 [==============================] - 1s 104us/step - loss: 0.4786 - acc: 0.8298 - val_loss: 0.3883 - val_acc: 0.8580\n",
      "Epoch 10/200\n",
      "8500/8500 [==============================] - 1s 108us/step - loss: 0.4499 - acc: 0.8402 - val_loss: 0.3766 - val_acc: 0.8687\n",
      "Epoch 11/200\n",
      "8500/8500 [==============================] - 1s 107us/step - loss: 0.4424 - acc: 0.8411 - val_loss: 0.3758 - val_acc: 0.8687\n",
      "Epoch 12/200\n",
      "8500/8500 [==============================] - 1s 105us/step - loss: 0.4296 - acc: 0.8462 - val_loss: 0.3634 - val_acc: 0.8787\n",
      "Epoch 13/200\n",
      "8500/8500 [==============================] - 1s 170us/step - loss: 0.4282 - acc: 0.8408 - val_loss: 0.3670 - val_acc: 0.8787\n",
      "Epoch 14/200\n",
      "8500/8500 [==============================] - 1s 113us/step - loss: 0.4074 - acc: 0.8494 - val_loss: 0.3522 - val_acc: 0.8820\n",
      "Epoch 15/200\n",
      "8500/8500 [==============================] - 1s 112us/step - loss: 0.4144 - acc: 0.8495 - val_loss: 0.3683 - val_acc: 0.8787\n",
      "Epoch 16/200\n",
      "8500/8500 [==============================] - 1s 115us/step - loss: 0.3923 - acc: 0.8558 - val_loss: 0.3509 - val_acc: 0.8747\n",
      "Epoch 17/200\n",
      "8500/8500 [==============================] - 1s 110us/step - loss: 0.3951 - acc: 0.8576 - val_loss: 0.3585 - val_acc: 0.8687\n",
      "Epoch 18/200\n",
      "8500/8500 [==============================] - 1s 104us/step - loss: 0.3910 - acc: 0.8602 - val_loss: 0.3376 - val_acc: 0.8720\n",
      "Epoch 19/200\n",
      "8500/8500 [==============================] - 1s 106us/step - loss: 0.3893 - acc: 0.8586 - val_loss: 0.3514 - val_acc: 0.8820\n",
      "Epoch 20/200\n",
      "8500/8500 [==============================] - 1s 103us/step - loss: 0.3818 - acc: 0.8625 - val_loss: 0.3471 - val_acc: 0.8753\n",
      "Epoch 21/200\n",
      "8500/8500 [==============================] - 1s 104us/step - loss: 0.3791 - acc: 0.8660 - val_loss: 0.3230 - val_acc: 0.8893\n",
      "Epoch 22/200\n",
      "8500/8500 [==============================] - 1s 104us/step - loss: 0.3619 - acc: 0.8675 - val_loss: 0.3291 - val_acc: 0.8827\n",
      "Epoch 23/200\n",
      "8500/8500 [==============================] - 1s 106us/step - loss: 0.3702 - acc: 0.8647 - val_loss: 0.3608 - val_acc: 0.8707\n",
      "Epoch 24/200\n",
      "8500/8500 [==============================] - 1s 104us/step - loss: 0.3607 - acc: 0.8647 - val_loss: 0.3583 - val_acc: 0.8700\n",
      "Epoch 25/200\n",
      "8500/8500 [==============================] - 1s 107us/step - loss: 0.3695 - acc: 0.8674 - val_loss: 0.3454 - val_acc: 0.8773\n",
      "Epoch 26/200\n",
      "8500/8500 [==============================] - 1s 107us/step - loss: 0.3614 - acc: 0.8711 - val_loss: 0.3229 - val_acc: 0.8760\n",
      "Epoch 27/200\n",
      "8500/8500 [==============================] - 1s 110us/step - loss: 0.3554 - acc: 0.8711 - val_loss: 0.3420 - val_acc: 0.8747\n",
      "Epoch 28/200\n",
      "8500/8500 [==============================] - 1s 108us/step - loss: 0.3552 - acc: 0.8685 - val_loss: 0.3473 - val_acc: 0.8653\n",
      "Epoch 29/200\n",
      "8500/8500 [==============================] - 1s 105us/step - loss: 0.3565 - acc: 0.8722 - val_loss: 0.3183 - val_acc: 0.8927\n",
      "Epoch 30/200\n",
      "8500/8500 [==============================] - 1s 103us/step - loss: 0.3446 - acc: 0.8742 - val_loss: 0.3170 - val_acc: 0.8847\n",
      "Epoch 31/200\n",
      "8500/8500 [==============================] - 1s 106us/step - loss: 0.3457 - acc: 0.8711 - val_loss: 0.4011 - val_acc: 0.8573\n",
      "Epoch 32/200\n",
      "8500/8500 [==============================] - 1s 107us/step - loss: 0.3498 - acc: 0.8718 - val_loss: 0.3463 - val_acc: 0.8760\n",
      "Epoch 33/200\n",
      "8500/8500 [==============================] - 1s 107us/step - loss: 0.3365 - acc: 0.8751 - val_loss: 0.3144 - val_acc: 0.8920\n",
      "Epoch 34/200\n",
      "8500/8500 [==============================] - 1s 106us/step - loss: 0.3379 - acc: 0.8780 - val_loss: 0.3121 - val_acc: 0.8933\n",
      "Epoch 35/200\n",
      "8500/8500 [==============================] - 1s 106us/step - loss: 0.3330 - acc: 0.8806 - val_loss: 0.3499 - val_acc: 0.8753\n",
      "Epoch 36/200\n",
      "8500/8500 [==============================] - 1s 103us/step - loss: 0.3386 - acc: 0.8776 - val_loss: 0.3064 - val_acc: 0.8920\n",
      "Epoch 37/200\n",
      "8500/8500 [==============================] - 1s 107us/step - loss: 0.3398 - acc: 0.8775 - val_loss: 0.3236 - val_acc: 0.8893\n",
      "Epoch 38/200\n",
      "8500/8500 [==============================] - 1s 104us/step - loss: 0.3348 - acc: 0.8779 - val_loss: 0.3234 - val_acc: 0.8847\n",
      "Epoch 39/200\n",
      "8500/8500 [==============================] - 1s 107us/step - loss: 0.3323 - acc: 0.8825 - val_loss: 0.3080 - val_acc: 0.8993\n",
      "Epoch 40/200\n",
      "8500/8500 [==============================] - 1s 108us/step - loss: 0.3131 - acc: 0.8846 - val_loss: 0.3297 - val_acc: 0.8827\n",
      "Epoch 41/200\n",
      "8500/8500 [==============================] - 1s 105us/step - loss: 0.3291 - acc: 0.8796 - val_loss: 0.3113 - val_acc: 0.8880\n",
      "Epoch 42/200\n",
      "8500/8500 [==============================] - 1s 105us/step - loss: 0.3159 - acc: 0.8845 - val_loss: 0.3097 - val_acc: 0.8900\n",
      "Epoch 43/200\n",
      "8500/8500 [==============================] - 1s 107us/step - loss: 0.3284 - acc: 0.8813 - val_loss: 0.3278 - val_acc: 0.8813\n",
      "Epoch 44/200\n",
      "8500/8500 [==============================] - 1s 107us/step - loss: 0.3052 - acc: 0.8909 - val_loss: 0.3059 - val_acc: 0.8973\n",
      "Epoch 45/200\n",
      "8500/8500 [==============================] - 1s 107us/step - loss: 0.3091 - acc: 0.8858 - val_loss: 0.3069 - val_acc: 0.8853\n",
      "Epoch 46/200\n",
      "8500/8500 [==============================] - 1s 105us/step - loss: 0.3115 - acc: 0.8862 - val_loss: 0.2874 - val_acc: 0.9007\n",
      "Epoch 47/200\n",
      "8500/8500 [==============================] - 1s 108us/step - loss: 0.3139 - acc: 0.8832 - val_loss: 0.3030 - val_acc: 0.8933\n",
      "Epoch 48/200\n",
      "8500/8500 [==============================] - 1s 104us/step - loss: 0.3258 - acc: 0.8815 - val_loss: 0.3051 - val_acc: 0.8947\n",
      "Epoch 49/200\n",
      "8500/8500 [==============================] - 1s 107us/step - loss: 0.3047 - acc: 0.8868 - val_loss: 0.3315 - val_acc: 0.8760\n",
      "Epoch 50/200\n",
      "8500/8500 [==============================] - 1s 107us/step - loss: 0.3089 - acc: 0.8840 - val_loss: 0.3025 - val_acc: 0.8907\n",
      "Epoch 51/200\n",
      "8500/8500 [==============================] - 1s 105us/step - loss: 0.3119 - acc: 0.8887 - val_loss: 0.3131 - val_acc: 0.8880\n",
      "Epoch 52/200\n",
      "8500/8500 [==============================] - 1s 107us/step - loss: 0.3051 - acc: 0.8878 - val_loss: 0.3419 - val_acc: 0.8767\n",
      "Epoch 53/200\n",
      "8500/8500 [==============================] - 1s 108us/step - loss: 0.3125 - acc: 0.8867 - val_loss: 0.2843 - val_acc: 0.9040\n",
      "Epoch 54/200\n",
      "8500/8500 [==============================] - 1s 100us/step - loss: 0.2986 - acc: 0.8900 - val_loss: 0.3081 - val_acc: 0.8940\n",
      "Epoch 55/200\n",
      "8500/8500 [==============================] - 1s 106us/step - loss: 0.3017 - acc: 0.8869 - val_loss: 0.3039 - val_acc: 0.8973\n",
      "Epoch 56/200\n",
      "8500/8500 [==============================] - 1s 104us/step - loss: 0.2981 - acc: 0.8936 - val_loss: 0.2982 - val_acc: 0.8947\n",
      "Epoch 57/200\n",
      "8500/8500 [==============================] - 1s 108us/step - loss: 0.2921 - acc: 0.8972 - val_loss: 0.2909 - val_acc: 0.9000\n",
      "Epoch 58/200\n",
      "8500/8500 [==============================] - 1s 104us/step - loss: 0.2868 - acc: 0.8952 - val_loss: 0.3330 - val_acc: 0.8753\n",
      "Epoch 59/200\n",
      "8500/8500 [==============================] - 1s 103us/step - loss: 0.2948 - acc: 0.8948 - val_loss: 0.2838 - val_acc: 0.9000\n",
      "Epoch 60/200\n"
     ]
    },
    {
     "name": "stdout",
     "output_type": "stream",
     "text": [
      "8500/8500 [==============================] - 1s 105us/step - loss: 0.2988 - acc: 0.8898 - val_loss: 0.2897 - val_acc: 0.9013\n",
      "Epoch 61/200\n",
      "8500/8500 [==============================] - 1s 103us/step - loss: 0.2916 - acc: 0.8940 - val_loss: 0.3309 - val_acc: 0.8793\n",
      "Epoch 62/200\n",
      "8500/8500 [==============================] - 1s 107us/step - loss: 0.2876 - acc: 0.8932 - val_loss: 0.3387 - val_acc: 0.8747\n",
      "Epoch 63/200\n",
      "8500/8500 [==============================] - 1s 105us/step - loss: 0.2917 - acc: 0.8933 - val_loss: 0.3102 - val_acc: 0.8853\n",
      "Epoch 64/200\n",
      "8500/8500 [==============================] - 1s 106us/step - loss: 0.2920 - acc: 0.8953 - val_loss: 0.3014 - val_acc: 0.8980\n",
      "Epoch 65/200\n",
      "8500/8500 [==============================] - 1s 106us/step - loss: 0.2890 - acc: 0.8941 - val_loss: 0.2985 - val_acc: 0.9000\n",
      "Epoch 66/200\n",
      "8500/8500 [==============================] - 1s 103us/step - loss: 0.2868 - acc: 0.8938 - val_loss: 0.2945 - val_acc: 0.8980\n",
      "Epoch 67/200\n",
      "8500/8500 [==============================] - 1s 105us/step - loss: 0.2904 - acc: 0.8926 - val_loss: 0.2749 - val_acc: 0.9013\n",
      "Epoch 68/200\n",
      "8500/8500 [==============================] - 1s 100us/step - loss: 0.2995 - acc: 0.8912 - val_loss: 0.2892 - val_acc: 0.9000\n",
      "Epoch 69/200\n",
      "8500/8500 [==============================] - 1s 104us/step - loss: 0.2752 - acc: 0.8986 - val_loss: 0.2828 - val_acc: 0.8980\n",
      "Epoch 70/200\n",
      "8500/8500 [==============================] - 1s 107us/step - loss: 0.2885 - acc: 0.8901 - val_loss: 0.3263 - val_acc: 0.8833\n",
      "Epoch 71/200\n",
      "8500/8500 [==============================] - 1s 106us/step - loss: 0.2802 - acc: 0.8976 - val_loss: 0.3047 - val_acc: 0.8900\n",
      "Epoch 72/200\n",
      "8500/8500 [==============================] - 1s 105us/step - loss: 0.2796 - acc: 0.8976 - val_loss: 0.3051 - val_acc: 0.8940\n",
      "Epoch 73/200\n",
      "8500/8500 [==============================] - 1s 106us/step - loss: 0.2724 - acc: 0.9013 - val_loss: 0.2957 - val_acc: 0.8880\n",
      "Epoch 74/200\n",
      "8500/8500 [==============================] - 1s 105us/step - loss: 0.2869 - acc: 0.8972 - val_loss: 0.2842 - val_acc: 0.9047\n",
      "Epoch 75/200\n",
      "8500/8500 [==============================] - 1s 104us/step - loss: 0.2775 - acc: 0.8995 - val_loss: 0.3037 - val_acc: 0.8873\n",
      "Epoch 76/200\n",
      "8500/8500 [==============================] - 1s 106us/step - loss: 0.2841 - acc: 0.8953 - val_loss: 0.2823 - val_acc: 0.8940\n",
      "Epoch 77/200\n",
      "8500/8500 [==============================] - 1s 106us/step - loss: 0.2709 - acc: 0.8984 - val_loss: 0.2976 - val_acc: 0.9027\n",
      "Epoch 78/200\n",
      "8500/8500 [==============================] - 1s 105us/step - loss: 0.2827 - acc: 0.8941 - val_loss: 0.2804 - val_acc: 0.9040\n",
      "Epoch 79/200\n",
      "8500/8500 [==============================] - 1s 105us/step - loss: 0.2679 - acc: 0.9040 - val_loss: 0.3123 - val_acc: 0.8853\n",
      "Epoch 80/200\n",
      "8500/8500 [==============================] - 1s 104us/step - loss: 0.2675 - acc: 0.9048 - val_loss: 0.2806 - val_acc: 0.9033\n",
      "Epoch 81/200\n",
      "8500/8500 [==============================] - 1s 105us/step - loss: 0.2796 - acc: 0.8968 - val_loss: 0.2774 - val_acc: 0.9033\n",
      "Epoch 82/200\n",
      "8500/8500 [==============================] - 1s 104us/step - loss: 0.2767 - acc: 0.8985 - val_loss: 0.2899 - val_acc: 0.8967\n",
      "Epoch 83/200\n",
      "8500/8500 [==============================] - 1s 104us/step - loss: 0.2791 - acc: 0.8958 - val_loss: 0.2895 - val_acc: 0.9000\n",
      "Epoch 84/200\n",
      "8500/8500 [==============================] - 1s 107us/step - loss: 0.2683 - acc: 0.8998 - val_loss: 0.2777 - val_acc: 0.8967\n",
      "Epoch 85/200\n",
      "8500/8500 [==============================] - 1s 105us/step - loss: 0.2653 - acc: 0.9036 - val_loss: 0.2985 - val_acc: 0.8920\n",
      "Epoch 86/200\n",
      "8500/8500 [==============================] - 1s 106us/step - loss: 0.2627 - acc: 0.9024 - val_loss: 0.3008 - val_acc: 0.8900\n",
      "Epoch 87/200\n",
      "8500/8500 [==============================] - 1s 105us/step - loss: 0.2646 - acc: 0.9046 - val_loss: 0.2795 - val_acc: 0.8967\n",
      "Epoch 88/200\n",
      "8500/8500 [==============================] - 1s 106us/step - loss: 0.2605 - acc: 0.9045 - val_loss: 0.2778 - val_acc: 0.9060\n",
      "Epoch 89/200\n",
      "8500/8500 [==============================] - 1s 106us/step - loss: 0.2739 - acc: 0.9025 - val_loss: 0.2800 - val_acc: 0.9027\n",
      "Epoch 90/200\n",
      "8500/8500 [==============================] - 1s 102us/step - loss: 0.2651 - acc: 0.9021 - val_loss: 0.2793 - val_acc: 0.8973\n",
      "Epoch 91/200\n",
      "8500/8500 [==============================] - 1s 107us/step - loss: 0.2631 - acc: 0.9031 - val_loss: 0.3094 - val_acc: 0.8847\n",
      "Epoch 92/200\n",
      "8500/8500 [==============================] - 1s 108us/step - loss: 0.2632 - acc: 0.9038 - val_loss: 0.2695 - val_acc: 0.9020\n",
      "Epoch 93/200\n",
      "8500/8500 [==============================] - 1s 106us/step - loss: 0.2604 - acc: 0.9042 - val_loss: 0.2970 - val_acc: 0.8893\n",
      "Epoch 94/200\n",
      "8500/8500 [==============================] - 1s 111us/step - loss: 0.2552 - acc: 0.9042 - val_loss: 0.2813 - val_acc: 0.9040\n",
      "Epoch 95/200\n",
      "8500/8500 [==============================] - 1s 108us/step - loss: 0.2743 - acc: 0.8998 - val_loss: 0.2769 - val_acc: 0.9013\n",
      "Epoch 96/200\n",
      "8500/8500 [==============================] - 1s 105us/step - loss: 0.2661 - acc: 0.9031 - val_loss: 0.2721 - val_acc: 0.9067\n",
      "Epoch 97/200\n",
      "8500/8500 [==============================] - 1s 104us/step - loss: 0.2586 - acc: 0.9049 - val_loss: 0.2902 - val_acc: 0.8993\n",
      "Epoch 98/200\n",
      "8500/8500 [==============================] - 1s 102us/step - loss: 0.2656 - acc: 0.9020 - val_loss: 0.2761 - val_acc: 0.9000\n",
      "Epoch 99/200\n",
      "8500/8500 [==============================] - 1s 104us/step - loss: 0.2554 - acc: 0.9061 - val_loss: 0.2747 - val_acc: 0.9033\n",
      "Epoch 100/200\n",
      "8500/8500 [==============================] - 1s 106us/step - loss: 0.2567 - acc: 0.9039 - val_loss: 0.2787 - val_acc: 0.9020\n",
      "Epoch 101/200\n",
      "8500/8500 [==============================] - 1s 105us/step - loss: 0.2582 - acc: 0.9064 - val_loss: 0.2930 - val_acc: 0.8953\n",
      "Epoch 102/200\n",
      "8500/8500 [==============================] - 1s 103us/step - loss: 0.2537 - acc: 0.9065 - val_loss: 0.2671 - val_acc: 0.9073\n",
      "Epoch 103/200\n",
      "8500/8500 [==============================] - 1s 104us/step - loss: 0.2522 - acc: 0.9054 - val_loss: 0.2793 - val_acc: 0.9027\n",
      "Epoch 104/200\n",
      "8500/8500 [==============================] - 1s 106us/step - loss: 0.2561 - acc: 0.9066 - val_loss: 0.2622 - val_acc: 0.9127\n",
      "Epoch 105/200\n",
      "8500/8500 [==============================] - 1s 102us/step - loss: 0.2587 - acc: 0.9066 - val_loss: 0.2627 - val_acc: 0.9120\n",
      "Epoch 106/200\n",
      "8500/8500 [==============================] - 1s 108us/step - loss: 0.2534 - acc: 0.9048 - val_loss: 0.3119 - val_acc: 0.8780\n",
      "Epoch 107/200\n",
      "8500/8500 [==============================] - 1s 106us/step - loss: 0.2464 - acc: 0.9091 - val_loss: 0.2856 - val_acc: 0.9033\n",
      "Epoch 108/200\n",
      "8500/8500 [==============================] - 1s 104us/step - loss: 0.2505 - acc: 0.9111 - val_loss: 0.2746 - val_acc: 0.8993\n",
      "Epoch 109/200\n",
      "8500/8500 [==============================] - 1s 106us/step - loss: 0.2527 - acc: 0.9078 - val_loss: 0.2798 - val_acc: 0.9093\n",
      "Epoch 110/200\n",
      "8500/8500 [==============================] - 1s 105us/step - loss: 0.2590 - acc: 0.9061 - val_loss: 0.2744 - val_acc: 0.9053\n",
      "Epoch 111/200\n",
      "8500/8500 [==============================] - 1s 106us/step - loss: 0.2504 - acc: 0.9100 - val_loss: 0.2640 - val_acc: 0.9113\n",
      "Epoch 112/200\n",
      "8500/8500 [==============================] - 1s 106us/step - loss: 0.2461 - acc: 0.9067 - val_loss: 0.2693 - val_acc: 0.9080\n",
      "Epoch 113/200\n",
      "8500/8500 [==============================] - 1s 103us/step - loss: 0.2406 - acc: 0.9092 - val_loss: 0.2953 - val_acc: 0.8967\n",
      "Epoch 114/200\n",
      "8500/8500 [==============================] - 1s 104us/step - loss: 0.2511 - acc: 0.9078 - val_loss: 0.2789 - val_acc: 0.8967\n",
      "Epoch 115/200\n",
      "8500/8500 [==============================] - 1s 105us/step - loss: 0.2512 - acc: 0.9088 - val_loss: 0.2581 - val_acc: 0.9133\n",
      "Epoch 116/200\n",
      "8500/8500 [==============================] - 1s 105us/step - loss: 0.2488 - acc: 0.9065 - val_loss: 0.2945 - val_acc: 0.8980\n",
      "Epoch 117/200\n",
      "8500/8500 [==============================] - 1s 106us/step - loss: 0.2524 - acc: 0.9044 - val_loss: 0.2763 - val_acc: 0.9027\n",
      "Epoch 118/200\n",
      "8500/8500 [==============================] - 1s 105us/step - loss: 0.2561 - acc: 0.9044 - val_loss: 0.2617 - val_acc: 0.9167\n",
      "Epoch 119/200\n",
      "8500/8500 [==============================] - 1s 106us/step - loss: 0.2391 - acc: 0.9066 - val_loss: 0.3048 - val_acc: 0.8920\n",
      "Epoch 120/200\n",
      "8500/8500 [==============================] - 1s 102us/step - loss: 0.2506 - acc: 0.9085 - val_loss: 0.2899 - val_acc: 0.9013\n",
      "Epoch 121/200\n",
      "8500/8500 [==============================] - 1s 106us/step - loss: 0.2472 - acc: 0.9102 - val_loss: 0.2859 - val_acc: 0.8987\n",
      "Epoch 122/200\n",
      "8500/8500 [==============================] - 1s 107us/step - loss: 0.2489 - acc: 0.9078 - val_loss: 0.2676 - val_acc: 0.9073\n",
      "Epoch 123/200\n",
      "8500/8500 [==============================] - 1s 107us/step - loss: 0.2396 - acc: 0.9120 - val_loss: 0.2656 - val_acc: 0.9007\n",
      "Epoch 124/200\n",
      "8500/8500 [==============================] - 1s 109us/step - loss: 0.2381 - acc: 0.9102 - val_loss: 0.2689 - val_acc: 0.9013\n",
      "Epoch 125/200\n",
      "8500/8500 [==============================] - 1s 108us/step - loss: 0.2479 - acc: 0.9074 - val_loss: 0.2875 - val_acc: 0.9033\n",
      "Epoch 126/200\n",
      "8500/8500 [==============================] - 1s 104us/step - loss: 0.2570 - acc: 0.9021 - val_loss: 0.2688 - val_acc: 0.9027\n",
      "Epoch 127/200\n",
      "8500/8500 [==============================] - 1s 110us/step - loss: 0.2348 - acc: 0.9147 - val_loss: 0.3295 - val_acc: 0.8793\n",
      "Epoch 128/200\n",
      "8500/8500 [==============================] - 1s 103us/step - loss: 0.2331 - acc: 0.9126 - val_loss: 0.2683 - val_acc: 0.9040\n",
      "Epoch 129/200\n",
      "8500/8500 [==============================] - 1s 105us/step - loss: 0.2448 - acc: 0.9114 - val_loss: 0.2678 - val_acc: 0.9087\n",
      "Epoch 130/200\n",
      "8500/8500 [==============================] - 1s 105us/step - loss: 0.2350 - acc: 0.9132 - val_loss: 0.2675 - val_acc: 0.9040\n",
      "Epoch 131/200\n",
      "8500/8500 [==============================] - 1s 109us/step - loss: 0.2444 - acc: 0.9082 - val_loss: 0.2678 - val_acc: 0.9053\n",
      "Epoch 132/200\n",
      "8500/8500 [==============================] - 1s 109us/step - loss: 0.2391 - acc: 0.9115 - val_loss: 0.2766 - val_acc: 0.9020\n",
      "Epoch 133/200\n",
      "8500/8500 [==============================] - 1s 110us/step - loss: 0.2426 - acc: 0.9113 - val_loss: 0.2680 - val_acc: 0.9020\n",
      "Epoch 134/200\n",
      "8500/8500 [==============================] - 1s 109us/step - loss: 0.2391 - acc: 0.9121 - val_loss: 0.2699 - val_acc: 0.9033\n",
      "Epoch 135/200\n",
      "8500/8500 [==============================] - 1s 109us/step - loss: 0.2378 - acc: 0.9093 - val_loss: 0.2697 - val_acc: 0.9107\n",
      "Epoch 136/200\n",
      "8500/8500 [==============================] - 1s 110us/step - loss: 0.2360 - acc: 0.9128 - val_loss: 0.3639 - val_acc: 0.8720\n",
      "Epoch 137/200\n",
      "8500/8500 [==============================] - 1s 109us/step - loss: 0.2332 - acc: 0.9155 - val_loss: 0.2721 - val_acc: 0.9073\n",
      "Epoch 138/200\n",
      "8500/8500 [==============================] - 1s 110us/step - loss: 0.2413 - acc: 0.9136 - val_loss: 0.2698 - val_acc: 0.9080\n",
      "Epoch 139/200\n",
      "8500/8500 [==============================] - 1s 110us/step - loss: 0.2440 - acc: 0.9107 - val_loss: 0.2721 - val_acc: 0.9073\n",
      "Epoch 140/200\n",
      "8500/8500 [==============================] - 1s 111us/step - loss: 0.2250 - acc: 0.9162 - val_loss: 0.2747 - val_acc: 0.9047\n",
      "Epoch 141/200\n",
      "8500/8500 [==============================] - 1s 109us/step - loss: 0.2402 - acc: 0.9109 - val_loss: 0.2716 - val_acc: 0.9073\n",
      "Epoch 142/200\n",
      "8500/8500 [==============================] - 1s 111us/step - loss: 0.2380 - acc: 0.9113 - val_loss: 0.2813 - val_acc: 0.8987\n",
      "Epoch 143/200\n",
      "8500/8500 [==============================] - 1s 110us/step - loss: 0.2383 - acc: 0.9144 - val_loss: 0.2804 - val_acc: 0.8980\n",
      "Epoch 144/200\n",
      "8500/8500 [==============================] - 1s 110us/step - loss: 0.2360 - acc: 0.9118 - val_loss: 0.2648 - val_acc: 0.9047\n",
      "Epoch 145/200\n",
      "8500/8500 [==============================] - 1s 109us/step - loss: 0.2318 - acc: 0.9141 - val_loss: 0.2691 - val_acc: 0.9020\n",
      "Epoch 146/200\n",
      "8500/8500 [==============================] - 1s 108us/step - loss: 0.2306 - acc: 0.9127 - val_loss: 0.2577 - val_acc: 0.9133\n",
      "Epoch 147/200\n",
      "8500/8500 [==============================] - 1s 109us/step - loss: 0.2386 - acc: 0.9120 - val_loss: 0.2675 - val_acc: 0.9093\n",
      "Epoch 148/200\n",
      "8500/8500 [==============================] - 1s 104us/step - loss: 0.2366 - acc: 0.9129 - val_loss: 0.2827 - val_acc: 0.8993\n",
      "Epoch 149/200\n",
      "8500/8500 [==============================] - 1s 105us/step - loss: 0.2341 - acc: 0.9166 - val_loss: 0.2841 - val_acc: 0.9033\n",
      "Epoch 150/200\n",
      "8500/8500 [==============================] - 1s 106us/step - loss: 0.2390 - acc: 0.9122 - val_loss: 0.2779 - val_acc: 0.9053\n",
      "Epoch 151/200\n",
      "8500/8500 [==============================] - 1s 104us/step - loss: 0.2359 - acc: 0.9126 - val_loss: 0.2623 - val_acc: 0.9087\n",
      "Epoch 152/200\n",
      "8500/8500 [==============================] - 1s 105us/step - loss: 0.2299 - acc: 0.9115 - val_loss: 0.3100 - val_acc: 0.8913\n",
      "Epoch 153/200\n",
      "8500/8500 [==============================] - 1s 106us/step - loss: 0.2378 - acc: 0.9113 - val_loss: 0.2750 - val_acc: 0.9053\n",
      "Epoch 154/200\n",
      "8500/8500 [==============================] - 1s 107us/step - loss: 0.2336 - acc: 0.9165 - val_loss: 0.3076 - val_acc: 0.8927\n",
      "Epoch 155/200\n",
      "8500/8500 [==============================] - 1s 100us/step - loss: 0.2308 - acc: 0.9139 - val_loss: 0.2639 - val_acc: 0.9107\n",
      "Epoch 156/200\n",
      "8500/8500 [==============================] - 1s 102us/step - loss: 0.2338 - acc: 0.9113 - val_loss: 0.2641 - val_acc: 0.9160\n",
      "Epoch 157/200\n",
      "8500/8500 [==============================] - 1s 104us/step - loss: 0.2274 - acc: 0.9142 - val_loss: 0.2590 - val_acc: 0.9113\n",
      "Epoch 158/200\n",
      "8500/8500 [==============================] - 1s 106us/step - loss: 0.2238 - acc: 0.9172 - val_loss: 0.3512 - val_acc: 0.8787\n",
      "Epoch 159/200\n",
      "8500/8500 [==============================] - 1s 105us/step - loss: 0.2297 - acc: 0.9189 - val_loss: 0.2739 - val_acc: 0.9100\n",
      "Epoch 160/200\n",
      "8500/8500 [==============================] - 1s 110us/step - loss: 0.2313 - acc: 0.9156 - val_loss: 0.2735 - val_acc: 0.9047\n",
      "Epoch 161/200\n",
      "8500/8500 [==============================] - 1s 108us/step - loss: 0.2320 - acc: 0.9149 - val_loss: 0.2977 - val_acc: 0.8907\n",
      "Epoch 162/200\n",
      "8500/8500 [==============================] - 1s 102us/step - loss: 0.2324 - acc: 0.9148 - val_loss: 0.2751 - val_acc: 0.9153\n",
      "Epoch 163/200\n",
      "8500/8500 [==============================] - 1s 105us/step - loss: 0.2314 - acc: 0.9166 - val_loss: 0.2786 - val_acc: 0.9060\n",
      "Epoch 164/200\n",
      "8500/8500 [==============================] - 1s 105us/step - loss: 0.2357 - acc: 0.9124 - val_loss: 0.2684 - val_acc: 0.9060\n",
      "Epoch 165/200\n",
      "8500/8500 [==============================] - 1s 104us/step - loss: 0.2270 - acc: 0.9148 - val_loss: 0.2830 - val_acc: 0.9033\n",
      "Epoch 166/200\n",
      "8500/8500 [==============================] - 1s 103us/step - loss: 0.2292 - acc: 0.9149 - val_loss: 0.2728 - val_acc: 0.9100\n",
      "Epoch 167/200\n",
      "8500/8500 [==============================] - 1s 103us/step - loss: 0.2281 - acc: 0.9145 - val_loss: 0.2837 - val_acc: 0.9080\n",
      "Epoch 168/200\n",
      "8500/8500 [==============================] - 1s 106us/step - loss: 0.2310 - acc: 0.9139 - val_loss: 0.2751 - val_acc: 0.9053\n",
      "Epoch 169/200\n",
      "8500/8500 [==============================] - 1s 103us/step - loss: 0.2304 - acc: 0.9129 - val_loss: 0.2724 - val_acc: 0.9100\n",
      "Epoch 170/200\n",
      "8500/8500 [==============================] - 1s 103us/step - loss: 0.2318 - acc: 0.9133 - val_loss: 0.2646 - val_acc: 0.9073\n",
      "Epoch 171/200\n",
      "8500/8500 [==============================] - 1s 106us/step - loss: 0.2185 - acc: 0.9221 - val_loss: 0.3205 - val_acc: 0.8880\n",
      "Epoch 172/200\n",
      "8500/8500 [==============================] - 1s 105us/step - loss: 0.2180 - acc: 0.9221 - val_loss: 0.2776 - val_acc: 0.9027\n",
      "Epoch 173/200\n",
      "8500/8500 [==============================] - 1s 105us/step - loss: 0.2280 - acc: 0.9121 - val_loss: 0.2674 - val_acc: 0.9073\n",
      "Epoch 174/200\n",
      "8500/8500 [==============================] - 1s 105us/step - loss: 0.2315 - acc: 0.9140 - val_loss: 0.2911 - val_acc: 0.8967\n",
      "Epoch 175/200\n",
      "8500/8500 [==============================] - 1s 105us/step - loss: 0.2242 - acc: 0.9169 - val_loss: 0.2733 - val_acc: 0.9080\n",
      "Epoch 176/200\n",
      "8500/8500 [==============================] - 1s 104us/step - loss: 0.2252 - acc: 0.9188 - val_loss: 0.2652 - val_acc: 0.9107\n",
      "Epoch 177/200\n",
      "8500/8500 [==============================] - 1s 101us/step - loss: 0.2314 - acc: 0.9178 - val_loss: 0.2795 - val_acc: 0.9013\n",
      "Epoch 178/200\n"
     ]
    },
    {
     "name": "stdout",
     "output_type": "stream",
     "text": [
      "8500/8500 [==============================] - 1s 104us/step - loss: 0.2249 - acc: 0.9154 - val_loss: 0.2641 - val_acc: 0.9107\n",
      "Epoch 179/200\n",
      "8500/8500 [==============================] - 1s 106us/step - loss: 0.2289 - acc: 0.9172 - val_loss: 0.2621 - val_acc: 0.9167\n",
      "Epoch 180/200\n",
      "8500/8500 [==============================] - 1s 105us/step - loss: 0.2260 - acc: 0.9158 - val_loss: 0.2719 - val_acc: 0.9033\n",
      "Epoch 181/200\n",
      "8500/8500 [==============================] - 1s 104us/step - loss: 0.2238 - acc: 0.9214 - val_loss: 0.2700 - val_acc: 0.9033\n",
      "Epoch 182/200\n",
      "8500/8500 [==============================] - 1s 106us/step - loss: 0.2299 - acc: 0.9151 - val_loss: 0.2621 - val_acc: 0.9127\n",
      "Epoch 183/200\n",
      "8500/8500 [==============================] - 1s 106us/step - loss: 0.2244 - acc: 0.9174 - val_loss: 0.2927 - val_acc: 0.8953\n",
      "Epoch 184/200\n",
      "8500/8500 [==============================] - 1s 104us/step - loss: 0.2192 - acc: 0.9215 - val_loss: 0.2593 - val_acc: 0.9113\n",
      "Epoch 185/200\n",
      "8500/8500 [==============================] - 1s 108us/step - loss: 0.2319 - acc: 0.9180 - val_loss: 0.2957 - val_acc: 0.8987\n",
      "Epoch 186/200\n",
      "8500/8500 [==============================] - 1s 105us/step - loss: 0.2175 - acc: 0.9199 - val_loss: 0.2684 - val_acc: 0.9093\n",
      "Epoch 187/200\n",
      "8500/8500 [==============================] - 1s 103us/step - loss: 0.2263 - acc: 0.9189 - val_loss: 0.2660 - val_acc: 0.9087\n",
      "Epoch 188/200\n",
      "8500/8500 [==============================] - 1s 104us/step - loss: 0.2271 - acc: 0.9171 - val_loss: 0.2710 - val_acc: 0.9073\n",
      "Epoch 189/200\n",
      "8500/8500 [==============================] - 1s 106us/step - loss: 0.2183 - acc: 0.9198 - val_loss: 0.2934 - val_acc: 0.8940\n",
      "Epoch 190/200\n",
      "8500/8500 [==============================] - 1s 106us/step - loss: 0.2215 - acc: 0.9204 - val_loss: 0.2801 - val_acc: 0.9020\n",
      "Epoch 191/200\n",
      "8500/8500 [==============================] - 1s 102us/step - loss: 0.2212 - acc: 0.9221 - val_loss: 0.2676 - val_acc: 0.9073\n",
      "Epoch 192/200\n",
      "8500/8500 [==============================] - 1s 105us/step - loss: 0.2156 - acc: 0.9216 - val_loss: 0.2922 - val_acc: 0.9013\n",
      "Epoch 193/200\n",
      "8500/8500 [==============================] - 1s 106us/step - loss: 0.2193 - acc: 0.9175 - val_loss: 0.2859 - val_acc: 0.9027\n",
      "Epoch 194/200\n",
      "8500/8500 [==============================] - 1s 103us/step - loss: 0.2143 - acc: 0.9213 - val_loss: 0.2955 - val_acc: 0.9080\n",
      "Epoch 195/200\n",
      "8500/8500 [==============================] - 1s 109us/step - loss: 0.2201 - acc: 0.9173 - val_loss: 0.3321 - val_acc: 0.8787\n",
      "Epoch 196/200\n",
      "8500/8500 [==============================] - 1s 110us/step - loss: 0.2139 - acc: 0.9205 - val_loss: 0.2769 - val_acc: 0.9047\n",
      "Epoch 197/200\n",
      "8500/8500 [==============================] - 1s 111us/step - loss: 0.2174 - acc: 0.9199 - val_loss: 0.2977 - val_acc: 0.8973\n",
      "Epoch 198/200\n",
      "8500/8500 [==============================] - 1s 102us/step - loss: 0.2119 - acc: 0.9235 - val_loss: 0.2686 - val_acc: 0.9093\n",
      "Epoch 199/200\n",
      "8500/8500 [==============================] - 1s 103us/step - loss: 0.2202 - acc: 0.9209 - val_loss: 0.2707 - val_acc: 0.9107\n",
      "Epoch 200/200\n",
      "8500/8500 [==============================] - 1s 105us/step - loss: 0.2150 - acc: 0.9206 - val_loss: 0.2744 - val_acc: 0.9027\n"
     ]
    }
   ],
   "source": [
    "epochs_number = 200\n",
    "hist = KerasModel.fit(X_train,y_train,validation_data=(X_cv, y_cv),epochs=epochs_number,batch_size=64,verbose=1)"
   ]
  },
  {
   "cell_type": "markdown",
   "metadata": {},
   "source": [
    "how is the final loss & accuracy"
   ]
  },
  {
   "cell_type": "code",
   "execution_count": 25,
   "metadata": {},
   "outputs": [
    {
     "data": {
      "text/plain": [
       "[0.13573122632950543, 0.9557]"
      ]
     },
     "execution_count": 25,
     "metadata": {},
     "output_type": "execute_result"
    }
   ],
   "source": [
    "score = KerasModel.evaluate(X_test, y_test, verbose=0)\n",
    "score"
   ]
  },
  {
   "cell_type": "markdown",
   "metadata": {},
   "source": [
    "greart . how it looks like now ? "
   ]
  },
  {
   "cell_type": "code",
   "execution_count": 26,
   "metadata": {},
   "outputs": [
    {
     "name": "stdout",
     "output_type": "stream",
     "text": [
      "_________________________________________________________________\n",
      "Layer (type)                 Output Shape              Param #   \n",
      "=================================================================\n",
      "conv2d_1 (Conv2D)            (None, 28, 28, 32)        320       \n",
      "_________________________________________________________________\n",
      "max_pooling2d_1 (MaxPooling2 (None, 14, 14, 32)        0         \n",
      "_________________________________________________________________\n",
      "batch_normalization_1 (Batch (None, 14, 14, 32)        128       \n",
      "_________________________________________________________________\n",
      "conv2d_2 (Conv2D)            (None, 14, 14, 32)        4128      \n",
      "_________________________________________________________________\n",
      "max_pooling2d_2 (MaxPooling2 (None, 7, 7, 32)          0         \n",
      "_________________________________________________________________\n",
      "batch_normalization_2 (Batch (None, 7, 7, 32)          128       \n",
      "_________________________________________________________________\n",
      "dropout_1 (Dropout)          (None, 7, 7, 32)          0         \n",
      "_________________________________________________________________\n",
      "flatten_1 (Flatten)          (None, 1568)              0         \n",
      "_________________________________________________________________\n",
      "dropout_2 (Dropout)          (None, 1568)              0         \n",
      "_________________________________________________________________\n",
      "dense_1 (Dense)              (None, 64)                100416    \n",
      "_________________________________________________________________\n",
      "dropout_3 (Dropout)          (None, 64)                0         \n",
      "_________________________________________________________________\n",
      "dense_2 (Dense)              (None, 10)                650       \n",
      "=================================================================\n",
      "Total params: 105,770\n",
      "Trainable params: 105,642\n",
      "Non-trainable params: 128\n",
      "_________________________________________________________________\n"
     ]
    }
   ],
   "source": [
    "KerasModel.summary()"
   ]
  },
  {
   "cell_type": "markdown",
   "metadata": {},
   "source": [
    "how is accuracy for test data , which never seen by the model yet"
   ]
  },
  {
   "cell_type": "code",
   "execution_count": 27,
   "metadata": {},
   "outputs": [
    {
     "name": "stdout",
     "output_type": "stream",
     "text": [
      "10000/10000 [==============================] - 1s 59us/step\n",
      "Test Loss is 0.13573122632950543\n",
      "Test Accuracy is 0.9557\n"
     ]
    }
   ],
   "source": [
    "ModelLoss, ModelAccuracy = KerasModel.evaluate(X_test, y_test)\n",
    "\n",
    "print('Test Loss is {}'.format(ModelLoss))\n",
    "print('Test Accuracy is {}'.format(ModelAccuracy ))"
   ]
  },
  {
   "cell_type": "markdown",
   "metadata": {},
   "source": [
    "a good accuracy , and might increase if we make more epochs\n",
    "\n",
    "_____\n",
    "\n",
    "now let's have a look to chart of epochs-accuracy , to know if we should do more epochs or we shpuld stop earlier\n",
    "\n",
    "first to calculate history accuracy values"
   ]
  },
  {
   "cell_type": "code",
   "execution_count": 28,
   "metadata": {},
   "outputs": [],
   "source": [
    "ModelAcc = hist.history['acc']\n",
    "ValAcc = hist.history['val_acc']\n",
    "LossValue = hist.history['loss']\n",
    "ValLoss = hist.history['val_loss']\n",
    "epochs = range(len(ModelAcc))"
   ]
  },
  {
   "cell_type": "markdown",
   "metadata": {},
   "source": [
    "then draw Training accuracy with epocs"
   ]
  },
  {
   "cell_type": "code",
   "execution_count": 29,
   "metadata": {},
   "outputs": [
    {
     "data": {
      "text/plain": [
       "<Figure size 432x288 with 0 Axes>"
      ]
     },
     "execution_count": 29,
     "metadata": {},
     "output_type": "execute_result"
    },
    {
     "data": {
      "image/png": "[encoded data removed]",
      "text/plain": [
       "<Figure size 432x288 with 1 Axes>"
      ]
     },
     "metadata": {},
     "output_type": "display_data"
    },
    {
     "data": {
      "text/plain": [
       "<Figure size 432x288 with 0 Axes>"
      ]
     },
     "metadata": {},
     "output_type": "display_data"
    }
   ],
   "source": [
    "plt.plot(range(1,epochs_number+1),ModelAcc, 'ro', label='Accuracy of Training ')\n",
    "plt.plot(range(1,epochs_number+1), ValAcc, 'r', label='Accuracy of Validation')\n",
    "plt.title('Training Vs Validation Accuracy')\n",
    "plt.legend()\n",
    "plt.figure()\n"
   ]
  },
  {
   "cell_type": "markdown",
   "metadata": {},
   "source": [
    "ok , looks like more epochs might be needed for the model , which will increase its accuracy \n",
    "\n",
    "how about loss value"
   ]
  },
  {
   "cell_type": "code",
   "execution_count": 30,
   "metadata": {},
   "outputs": [
    {
     "data": {
      "image/png": "[encoded data removed]",
      "text/plain": [
       "<Figure size 432x288 with 1 Axes>"
      ]
     },
     "metadata": {},
     "output_type": "display_data"
    }
   ],
   "source": [
    "plt.plot(range(1,epochs_number+1), LossValue, 'ro', label='Loss of Training ')\n",
    "plt.plot(range(1,epochs_number+1), ValLoss, 'r', label='Loss of Validation')\n",
    "plt.title('Training Vs Validation loss')\n",
    "plt.legend()\n",
    "plt.show()"
   ]
  },
  {
   "cell_type": "markdown",
   "metadata": {},
   "source": [
    "again , more epochs here will decrease the loss in the model \n",
    "\n",
    "_____\n",
    "\n",
    "now to predict X Test"
   ]
  },
  {
   "cell_type": "code",
   "execution_count": 31,
   "metadata": {},
   "outputs": [
    {
     "name": "stdout",
     "output_type": "stream",
     "text": [
      "Prediction Shape is (10000, 10)\n"
     ]
    }
   ],
   "source": [
    "y_pred = KerasModel.predict(X_test)\n",
    "\n",
    "print('Prediction Shape is {}'.format(y_pred.shape))"
   ]
  },
  {
   "cell_type": "markdown",
   "metadata": {},
   "source": [
    "let's check random 20 samples , & we need to have a look to any mismatch images , to see why it confused"
   ]
  },
  {
   "cell_type": "code",
   "execution_count": 33,
   "metadata": {},
   "outputs": [
    {
     "name": "stdout",
     "output_type": "stream",
     "text": [
      "for sample  5916  the predicted value is   9   , while the actual letter is 9\n",
      "for sample  5938  the predicted value is   3   , while the actual letter is 3\n",
      "for sample  8945  the predicted value is   2   , while the actual letter is 2\n",
      "for sample  3968  the predicted value is   7   , while the actual letter is 7\n",
      "for sample  9426  the predicted value is   1   , while the actual letter is 1\n",
      "for sample  152  the predicted value is   3   , while the actual letter is 3\n",
      "for sample  2023  the predicted value is   5   , while the actual letter is 5\n",
      "for sample  6137  the predicted value is   5   , while the actual letter is 5\n",
      "for sample  3024  the predicted value is   9   , while the actual letter is 9\n",
      "for sample  849  the predicted value is   8   , while the actual letter is 8\n",
      "for sample  4574  the predicted value is   9   , while the actual letter is 9\n",
      "for sample  5153  the predicted value is   7   , while the actual letter is 7\n",
      "for sample  5183  the predicted value is   3   , while the actual letter is 3\n",
      "for sample  557  the predicted value is   4   , while the actual letter is 4\n",
      "for sample  918  the predicted value is   3   , while the actual letter is 3\n",
      "for sample  9943  the predicted value is   4   , while the actual letter is 4\n",
      "for sample  5223  the predicted value is   6   , while the actual letter is 6\n",
      "for sample  5307  the predicted value is   5   , while the actual letter is 5\n",
      "for sample  9901  the predicted value is   9   , while the actual letter is 9\n",
      "for sample  1962  the predicted value is   5   , while the actual letter is 5\n"
     ]
    }
   ],
   "source": [
    "for i in list(np.random.randint(0,len(X_test) ,size= 20)) : \n",
    "    print(f'for sample  {i}  the predicted value is   {np.argmax(y_pred[i])}   , while the actual letter is {np.argmax(y_test[i])}')\n",
    "    if np.argmax(y_pred[i]) != np.argmax(y_test[i]) : \n",
    "        print('==============================')\n",
    "        print('Found mismatch . . ')\n",
    "        plt.figure(figsize=(5,5))\n",
    "        plt.style.use('ggplot')\n",
    "        plt.imshow(X_test[i].reshape(28,28))\n",
    "        plt.show()\n",
    "        print('==============================')"
   ]
  },
  {
   "cell_type": "markdown",
   "metadata": {},
   "source": [
    "____\n",
    "\n",
    "ok no mismatch found . \n",
    "\n"
   ]
  }
 ],
 "metadata": {
  "kernelspec": {
   "display_name": "Python 3",
   "language": "python",
   "name": "python3"
  },
  "language_info": {
   "codemirror_mode": {
    "name": "ipython",
    "version": 3
   },
   "file_extension": ".py",
   "mimetype": "text/x-python",
   "name": "python",
   "nbconvert_exporter": "python",
   "pygments_lexer": "ipython3",
   "version": "3.7.3"
  }
 },
 "nbformat": 4,
 "nbformat_minor": 1
}
